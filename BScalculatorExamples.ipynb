{
 "cells": [
  {
   "cell_type": "code",
   "execution_count": 3,
   "metadata": {},
   "outputs": [
    {
     "ename": "ModuleNotFoundError",
     "evalue": "No module named 'pricer'",
     "output_type": "error",
     "traceback": [
      "\u001b[0;31m---------------------------------------------------------------------------\u001b[0m",
      "\u001b[0;31mModuleNotFoundError\u001b[0m                       Traceback (most recent call last)",
      "Cell \u001b[0;32mIn[3], line 1\u001b[0m\n\u001b[0;32m----> 1\u001b[0m \u001b[38;5;28;01mfrom\u001b[39;00m \u001b[38;5;21;01mpricer\u001b[39;00m \u001b[38;5;28;01mimport\u001b[39;00m EuropeanOption,EuropeanGreeks\n",
      "\u001b[0;31mModuleNotFoundError\u001b[0m: No module named 'pricer'"
     ]
    }
   ],
   "source": [
    "from pricer import EuropeanOption,EuropeanGreeks"
   ]
  },
  {
   "cell_type": "code",
   "execution_count": 2,
   "metadata": {},
   "outputs": [
    {
     "ename": "NameError",
     "evalue": "name 'EuropeanOption' is not defined",
     "output_type": "error",
     "traceback": [
      "\u001b[0;31m---------------------------------------------------------------------------\u001b[0m",
      "\u001b[0;31mNameError\u001b[0m                                 Traceback (most recent call last)",
      "Cell \u001b[0;32mIn[2], line 1\u001b[0m\n\u001b[0;32m----> 1\u001b[0m Call \u001b[38;5;241m=\u001b[39m \u001b[43mEuropeanOption\u001b[49m(\u001b[38;5;241m100\u001b[39m,\u001b[38;5;241m90\u001b[39m,\u001b[38;5;241m1\u001b[39m,\u001b[38;5;241m0.05\u001b[39m,\u001b[38;5;241m0.02\u001b[39m,\u001b[38;5;241m0.2\u001b[39m)\n\u001b[1;32m      2\u001b[0m Put \u001b[38;5;241m=\u001b[39m EuropeanOption(\u001b[38;5;241m100\u001b[39m,\u001b[38;5;241m90\u001b[39m,\u001b[38;5;241m1\u001b[39m,\u001b[38;5;241m0.05\u001b[39m,\u001b[38;5;241m0.02\u001b[39m,\u001b[38;5;241m0.2\u001b[39m,\u001b[38;5;28;01mFalse\u001b[39;00m)\n\u001b[1;32m      3\u001b[0m CallGreeks \u001b[38;5;241m=\u001b[39m EuropeanGreeks(\u001b[38;5;241m100\u001b[39m,\u001b[38;5;241m90\u001b[39m,\u001b[38;5;241m1\u001b[39m,\u001b[38;5;241m0.05\u001b[39m,\u001b[38;5;241m0.02\u001b[39m,\u001b[38;5;241m0.2\u001b[39m,\u001b[38;5;28;01mTrue\u001b[39;00m)\n",
      "\u001b[0;31mNameError\u001b[0m: name 'EuropeanOption' is not defined"
     ]
    }
   ],
   "source": [
    "Call = EuropeanOption(100,90,1,0.05,0.02,0.2)\n",
    "Put = EuropeanOption(100,90,1,0.05,0.02,0.2,False)\n",
    "CallGreeks = EuropeanGreeks(100,90,1,0.05,0.02,0.2,True)\n",
    "PutGreeks = EuropeanGreeks(100,90,1,0.05,0.02,0.2,False)"
   ]
  },
  {
   "cell_type": "code",
   "execution_count": null,
   "metadata": {},
   "outputs": [],
   "source": []
  }
 ],
 "metadata": {
  "kernelspec": {
   "display_name": "Python 3",
   "language": "python",
   "name": "python3"
  },
  "language_info": {
   "codemirror_mode": {
    "name": "ipython",
    "version": 3
   },
   "file_extension": ".py",
   "mimetype": "text/x-python",
   "name": "python",
   "nbconvert_exporter": "python",
   "pygments_lexer": "ipython3",
   "version": "3.9.6"
  }
 },
 "nbformat": 4,
 "nbformat_minor": 2
}
