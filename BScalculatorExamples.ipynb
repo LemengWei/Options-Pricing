{
 "cells": [
  {
   "cell_type": "code",
   "execution_count": 4,
   "metadata": {},
   "outputs": [],
   "source": [
    "from BScalculator import EuropeanOption,EuropeanGreeks"
   ]
  },
  {
   "cell_type": "code",
   "execution_count": 5,
   "metadata": {},
   "outputs": [],
   "source": [
    "Call = EuropeanOption(100,90,1,0.05,0.02,0.2)\n",
    "Put = EuropeanOption(100,90,1,0.05,0.02,0.2,False)\n",
    "CallGreeks = EuropeanGreeks(100,90,1,0.05,0.02,0.2,True)\n",
    "PutGreeks = EuropeanGreeks(100,90,1,0.05,0.02,0.2,False)"
   ]
  },
  {
   "cell_type": "code",
   "execution_count": 6,
   "metadata": {},
   "outputs": [
    {
     "data": {
      "text/plain": [
       "(15.123708071023735, 2.7144889454124694)"
      ]
     },
     "execution_count": 6,
     "metadata": {},
     "output_type": "execute_result"
    }
   ],
   "source": [
    "Call,Put"
   ]
  },
  {
   "cell_type": "code",
   "execution_count": 7,
   "metadata": {},
   "outputs": [
    {
     "data": {
      "text/plain": [
       "({'delta': 0.7658903607094304,\n",
       "  'gamma': 0.014459813939670807,\n",
       "  'vega': 28.919627879341615,\n",
       "  'theta(per year)': -1.3504771093570573,\n",
       "  'theta(per day)': -4.4334484665112655,\n",
       "  'rho': 61.4653279999193},\n",
       " {'delta': -0.2341096392905696,\n",
       "  'gamma': 0.014459813939670807,\n",
       "  'vega': 28.919627879341615,\n",
       "  'theta(per year)': -3.6706121729967593,\n",
       "  'theta(per day)': -2.1133134028715634,\n",
       "  'rho': -24.14532020514496})"
      ]
     },
     "execution_count": 7,
     "metadata": {},
     "output_type": "execute_result"
    }
   ],
   "source": [
    "CallGreeks,PutGreeks"
   ]
  },
  {
   "cell_type": "code",
   "execution_count": null,
   "metadata": {},
   "outputs": [],
   "source": []
  }
 ],
 "metadata": {
  "kernelspec": {
   "display_name": "Python 3",
   "language": "python",
   "name": "python3"
  },
  "language_info": {
   "codemirror_mode": {
    "name": "ipython",
    "version": 3
   },
   "file_extension": ".py",
   "mimetype": "text/x-python",
   "name": "python",
   "nbconvert_exporter": "python",
   "pygments_lexer": "ipython3",
   "version": "3.9.6"
  }
 },
 "nbformat": 4,
 "nbformat_minor": 2
}
